{
 "cells": [
  {
   "cell_type": "markdown",
   "id": "ca1d8c34",
   "metadata": {},
   "source": [
    "# Closed Loop: Basics"
   ]
  },
  {
   "cell_type": "markdown",
   "id": "b90b92bb",
   "metadata": {},
   "source": [
    "## Import necessary Python modules"
   ]
  },
  {
   "cell_type": "code",
   "execution_count": 1,
   "id": "4943d20d",
   "metadata": {},
   "outputs": [],
   "source": [
    "import numpy as np\n",
    "import epics # 'epics' is part of pyepics\n",
    "from epics import PV\n",
    "from time import sleep\n",
    "import matplotlib.pyplot as plt"
   ]
  },
  {
   "cell_type": "markdown",
   "id": "e0e06b2b",
   "metadata": {},
   "source": [
    "## Establish initial settings for LEDs, Photodetector, and Shutter"
   ]
  },
  {
   "cell_type": "code",
   "execution_count": 2,
   "id": "10590a90",
   "metadata": {},
   "outputs": [
    {
     "data": {
      "text/plain": [
       "1"
      ]
     },
     "execution_count": 2,
     "metadata": {},
     "output_type": "execute_result"
    }
   ],
   "source": [
    "epics.caput(\"SHUTTER:enable\", 0) # Disable the shutter\n",
    "\n",
    "NLEDS = 6 # our sidekick system has six LEDs\n",
    "for i in range(NLEDS): # for each of our six LEDs\n",
    "    epics.caput('LEDS:CH' + str(i) + ':brig.VAL', 255) # Set LED brightness to 255 out of 255 (max brightness)\n",
    "    epics.caput('LEDS:CH' + str(i) + ':dur.VAL', 30.0e3) # Set LED 'flash on' duration to 30 ms\n",
    "\n",
    "epics.caput(\"PHOTO:dur\", 100.0e3) # Set photodetector exposure time to 100 ms\n",
    "epics.caput(\"PULSEGEN:CH0:delay\", 5.0e3) # Set LED trigger delay to 5 ms\n",
    "epics.caput(\"PULSEGEN:CH2:delay\", 0.0e3) # Set Photodetector trigger delay to 0 ms\n",
    "epics.caput(\"PULSEGEN:reprate\", 3) # Set systemwide repetition rate to 3 Hz"
   ]
  },
  {
   "cell_type": "markdown",
   "id": "9fd4a56a",
   "metadata": {},
   "source": [
    "## Write parser to interpret photodetector data string"
   ]
  },
  {
   "cell_type": "code",
   "execution_count": 3,
   "id": "e3b78adc",
   "metadata": {
    "scrolled": false
   },
   "outputs": [
    {
     "data": {
      "text/plain": [
       "(0.0095943464, 11)"
      ]
     },
     "execution_count": 3,
     "metadata": {},
     "output_type": "execute_result"
    }
   ],
   "source": [
    "def dataparse(datastr):\n",
    "    \"\"\" Parse the photodetector data string, which comes in the format 'DAT: 0.02112776, TRIG: 531' \"\"\"\n",
    "    [str1, str2] = datastr.split(',')\n",
    "    data = np.float64(str1.split(': ')[1])\n",
    "    trig = np.int64(str2.split(': ')[1])\n",
    "    return data, trig\n",
    "\n",
    "# Example usage:\n",
    "dataparse(\"DAT: 0.009594346400, TRIG: 11\")"
   ]
  },
  {
   "cell_type": "code",
   "execution_count": 4,
   "id": "fcfbc3e6",
   "metadata": {},
   "outputs": [],
   "source": [
    "pvphoto = PV(\"PHOTO:data.VAL\", form=\"time\")"
   ]
  },
  {
   "cell_type": "code",
   "execution_count": 5,
   "id": "9ba8a290",
   "metadata": {},
   "outputs": [
    {
     "data": {
      "text/plain": [
       "(0.002659461, 6337)"
      ]
     },
     "execution_count": 5,
     "metadata": {},
     "output_type": "execute_result"
    }
   ],
   "source": [
    "dataparse(pvphoto.value)"
   ]
  },
  {
   "cell_type": "markdown",
   "id": "cbb08b62",
   "metadata": {},
   "source": [
    "## Explore a Closed Loop"
   ]
  },
  {
   "cell_type": "code",
   "execution_count": 6,
   "id": "4744181e",
   "metadata": {},
   "outputs": [],
   "source": [
    "def fancyFeedbackAlgo(brightness, signal, target_signal):\n",
    "    \"\"\" Suggests next brightness value to try based on the present photodiode signal \n",
    "\n",
    "    brightness:        Current LED brightness\n",
    "    signal:            Corresponding photodiode signal\n",
    "    target_signal:     Desired photodiode signal\n",
    "    \n",
    "    next_brightness:   Suggested next brightness value to try\n",
    "    \"\"\"\n",
    "    \n",
    "    if signal < target_signal:\n",
    "        next_brightness = brightness + 15 # increase brightness next time\n",
    "    else:\n",
    "        next_brightness = brightness - 15 # decrease brightness next time\n",
    "    \n",
    "    next_brightness = np.clip(next_brightness, 0, 255) # constrain values to valid range\n",
    "    \n",
    "    return next_brightness"
   ]
  },
  {
   "cell_type": "code",
   "execution_count": 7,
   "id": "0706249d",
   "metadata": {},
   "outputs": [
    {
     "name": "stdout",
     "output_type": "stream",
     "text": [
      "Brightnes:  255\n",
      "Trigger:  6340\n",
      "Signal:  0.0026838379\n",
      "Brightnes:  240\n",
      "Trigger:  6343\n",
      "Signal:  0.0024844671\n",
      "Brightnes:  225\n",
      "Trigger:  6347\n",
      "Signal:  0.0023077673\n",
      "Brightnes:  210\n",
      "Trigger:  6350\n",
      "Signal:  0.0021284001\n",
      "Brightnes:  195\n",
      "Trigger:  6354\n",
      "Signal:  0.0019022856\n",
      "Brightnes:  180\n",
      "Trigger:  6357\n",
      "Signal:  0.001718323\n",
      "Brightnes:  165\n",
      "Trigger:  6361\n",
      "Signal:  0.00153772\n",
      "Brightnes:  150\n",
      "Trigger:  6364\n",
      "Signal:  0.0013247227\n",
      "Brightnes:  165\n",
      "Trigger:  6368\n",
      "Signal:  0.0014969482\n",
      "Brightnes:  150\n",
      "Trigger:  6371\n",
      "Signal:  0.0013220519\n",
      "Brightnes:  165\n",
      "Trigger:  6375\n",
      "Signal:  0.0015684342\n",
      "Brightnes:  150\n",
      "Trigger:  6378\n",
      "Signal:  0.0013821451\n",
      "Brightnes:  135\n",
      "Trigger:  6382\n",
      "Signal:  0.0011724865\n",
      "Brightnes:  150\n",
      "Trigger:  6385\n",
      "Signal:  0.0013828129\n",
      "Brightnes:  135\n",
      "Trigger:  6389\n",
      "Signal:  0.0012252349\n",
      "Brightnes:  150\n",
      "Trigger:  6392\n",
      "Signal:  0.0013855938\n",
      "Brightnes:  135\n",
      "Trigger:  6396\n",
      "Signal:  0.0012432629\n",
      "Brightnes:  150\n",
      "Trigger:  6399\n",
      "Signal:  0.0013621141\n",
      "Brightnes:  135\n",
      "Trigger:  6403\n",
      "Signal:  0.0011698155\n",
      "Brightnes:  150\n",
      "Trigger:  6406\n",
      "Signal:  0.0013561047\n"
     ]
    }
   ],
   "source": [
    "NSTEPS = 20 # We will let this feedback algorithm run for 20 distinct steps\n",
    "\n",
    "brigs = np.zeros(NSTEPS, dtype=\"int64\") # allocate array to hold LED brightness corresponding to each photodetector value\n",
    "data = np.zeros(NSTEPS) # allocate array to hold photodetector value for each brightness step\n",
    "trigs = np.zeros(NSTEPS, dtype='int64') # allocate array to hold trigger count corresponding to each photodetector value\n",
    "\n",
    "isfresh = False # isfresh is a global variable indicating fresh data is ready to take\n",
    "\n",
    "def dataCallback(**kw):\n",
    "    global isfresh\n",
    "    isfresh = True\n",
    "\n",
    "pvphoto.add_callback(dataCallback)\n",
    "\n",
    "sig_init, trig = dataparse(pvphoto.value)\n",
    "sig_target = sig_init / 2.0 # Set target signal level to half of the current signal level\n",
    "brig = 255\n",
    "\n",
    "for i in range(NSTEPS):\n",
    "    brigs[i] = brig\n",
    "    print(\"Brightnes: \", brig)\n",
    "    for j in range(NLEDS): # for each of our six LEDs\n",
    "        epics.caput('LEDS:CH' + str(j) + ':brig.VAL', brig) # Set LED brightness to 255 out of 255 (max brightness)\n",
    "    isfresh = False\n",
    "    while not isfresh:\n",
    "        sleep(0.1)\n",
    "    data[i], trigs[i] = dataparse(pvphoto.value)\n",
    "    print(\"Trigger: \", trigs[i])\n",
    "    print(\"Signal: \", data[i])\n",
    "    next_brig = fancyFeedbackAlgo(brig, data[i], sig_target)\n",
    "    brig = next_brig\n",
    "\n",
    "pvphoto.clear_callbacks()"
   ]
  },
  {
   "cell_type": "markdown",
   "id": "80a8426c",
   "metadata": {},
   "source": [
    "## Plot results"
   ]
  },
  {
   "cell_type": "code",
   "execution_count": 11,
   "id": "e26038ea",
   "metadata": {
    "scrolled": true
   },
   "outputs": [
    {
     "data": {
      "image/png": "[encoded data removed]",
      "text/plain": [
       "<Figure size 640x480 with 1 Axes>"
      ]
     },
     "metadata": {},
     "output_type": "display_data"
    }
   ],
   "source": [
    "fig, ax = plt.subplots()\n",
    "ax.plot(trigs - trigs[0], data)\n",
    "ax.axhline(sig_target, color='red', linestyle='--', label=\"Target value\")\n",
    "ax.set_ylim([0, np.max(data)])\n",
    "ax.set_title(\"Time Evolution Under Simple Feedback Control\")\n",
    "ax.set_ylabel(\"Photodetector Signal\")\n",
    "ax.set_xlabel(\"Global Trigger Count (relative to start)\")\n",
    "plt.legend()\n",
    "plt.show()"
   ]
  },
  {
   "cell_type": "code",
   "execution_count": null,
   "id": "2f737f0b",
   "metadata": {},
   "outputs": [],
   "source": []
  }
 ],
 "metadata": {
  "kernelspec": {
   "display_name": "Python 3",
   "language": "python",
   "name": "python3"
  },
  "language_info": {
   "codemirror_mode": {
    "name": "ipython",
    "version": 3
   },
   "file_extension": ".py",
   "mimetype": "text/x-python",
   "name": "python",
   "nbconvert_exporter": "python",
   "pygments_lexer": "ipython3",
   "version": "3.9.6"
  }
 },
 "nbformat": 4,
 "nbformat_minor": 5
}
