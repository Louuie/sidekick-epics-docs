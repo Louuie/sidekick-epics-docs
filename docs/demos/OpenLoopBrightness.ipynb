{
 "cells": [
  {
   "cell_type": "markdown",
   "id": "339c8789",
   "metadata": {},
   "source": [
    "# Open Loop: Brightness Scan"
   ]
  },
  {
   "cell_type": "markdown",
   "id": "8e898f9b",
   "metadata": {},
   "source": [
    "This example includes a brightness scan that is plotted to show the trend."
   ]
  },
  {
   "cell_type": "markdown",
   "id": "ca1d8c34",
   "metadata": {},
   "source": [
    "## Import necessary Python modules"
   ]
  },
  {
   "cell_type": "code",
   "execution_count": 1,
   "id": "4943d20d",
   "metadata": {},
   "outputs": [],
   "source": [
    "import numpy as np\n",
    "import epics # 'epics' is part of pyepics\n",
    "from time import sleep\n",
    "import matplotlib.pyplot as plt"
   ]
  },
  {
   "cell_type": "markdown",
   "id": "e0e06b2b",
   "metadata": {},
   "source": [
    "## Establish initial settings for LEDs, Shutter, and Photodetector"
   ]
  },
  {
   "cell_type": "code",
   "execution_count": 6,
   "id": "2cdc31e2",
   "metadata": {},
   "outputs": [
    {
     "data": {
      "text/plain": [
       "1"
      ]
     },
     "execution_count": 6,
     "metadata": {},
     "output_type": "execute_result"
    }
   ],
   "source": [
    "NLEDS = 6 # our sidekick system has six LEDs\n",
    "for i in range(NLEDS): # for each of our six LEDs\n",
    "    epics.caput('LEDS:CH' + str(i) + ':brig.VAL', 255) # Set LED brightness to 255 out of 255 (max brightness)\n",
    "    epics.caput('LEDS:CH' + str(i) + ':dur.VAL', 500e3) # Set LED 'flash on' duration to 500 ms\n",
    "\n",
    "epics.caput(\"SHUTTER:enable\", 1) # Enable the shutter\n",
    "epics.caput(\"SHUTTER:dur\", 1.5e6) # Set shutter 'open' duration to 1.5 seconds (includes some time while opening)\n",
    "epics.caput(\"PULSEGEN:reprate\", 1/3.0) # Set systemwide repetition rate to once every three seconds\n",
    "\n",
    "epics.caput(\"PULSEGEN:CH0:delay\", 400.0e3) # Set LED trigger delay to 400 ms\n",
    "epics.caput(\"PULSEGEN:CH1:delay\", 0.0e3) # Set Shutter trigger delay to 0 ms\n",
    "epics.caput(\"PULSEGEN:CH2:delay\", 300.0e3) # Set Photodetector trigger delay to 300 ms\n",
    "\n",
    "epics.caput(\"PHOTO:dur\", 1000.0e3) # Set photodetector exposure length to one second"
   ]
  },
  {
   "cell_type": "markdown",
   "id": "9fd4a56a",
   "metadata": {},
   "source": [
    "## Write parser to interpret photodetector data string"
   ]
  },
  {
   "cell_type": "code",
   "execution_count": 7,
   "id": "72fa8639",
   "metadata": {},
   "outputs": [
    {
     "data": {
      "text/plain": [
       "'DATA: 0.05296564, TRIGCNT: 162'"
      ]
     },
     "execution_count": 7,
     "metadata": {},
     "output_type": "execute_result"
    }
   ],
   "source": [
    "epics.caget(\"PHOTO:data\")"
   ]
  },
  {
   "cell_type": "code",
   "execution_count": 8,
   "id": "e3b78adc",
   "metadata": {},
   "outputs": [
    {
     "data": {
      "text/plain": [
       "(0.02112776, 531)"
      ]
     },
     "execution_count": 8,
     "metadata": {},
     "output_type": "execute_result"
    }
   ],
   "source": [
    "def dataparse(datastr):\n",
    "    \"\"\" Parse the photodetector data string, which comes in the format 'DATA: 0.02112776, TRIGCNT: 531' \"\"\"\n",
    "    [str1, str2] = datastr.split(',')\n",
    "    data = np.float64(str1.split(': ')[1])\n",
    "    trig = np.int64(str2.split(': ')[1])\n",
    "    return data, trig\n",
    "\n",
    "# Example usage:\n",
    "dataparse(\"DATA: 0.02112776, TRIGCNT: 531\")"
   ]
  },
  {
   "cell_type": "code",
   "execution_count": 9,
   "id": "8fbacc7a",
   "metadata": {},
   "outputs": [
    {
     "data": {
      "text/plain": [
       "(0.0522487, 164)"
      ]
     },
     "execution_count": 9,
     "metadata": {},
     "output_type": "execute_result"
    }
   ],
   "source": [
    "dataparse(epics.caget(\"PHOTO:data\"))"
   ]
  },
  {
   "cell_type": "markdown",
   "id": "952667ad",
   "metadata": {},
   "source": [
    "## Record photodetector signal (to NumPy array) while stepping through LED brightnesses"
   ]
  },
  {
   "cell_type": "code",
   "execution_count": 57,
   "id": "129e93af",
   "metadata": {},
   "outputs": [
    {
     "name": "stdout",
     "output_type": "stream",
     "text": [
      "Brightness:  0\n",
      "DATA: 0.00000000, TRIGCNT: 323\n",
      "Brightness:  8\n",
      "DATA: 0.00000000, TRIGCNT: 325\n",
      "Brightness:  17\n",
      "DATA: 0.00010094, TRIGCNT: 327\n",
      "Brightness:  26\n",
      "DATA: 0.00034941, TRIGCNT: 328\n",
      "Brightness:  35\n",
      "DATA: 0.00106118, TRIGCNT: 330\n",
      "Brightness:  43\n",
      "DATA: 0.00363388, TRIGCNT: 332\n",
      "Brightness:  52\n",
      "DATA: 0.00584165, TRIGCNT: 333\n",
      "Brightness:  61\n",
      "DATA: 0.00752141, TRIGCNT: 335\n",
      "Brightness:  70\n",
      "DATA: 0.01316894, TRIGCNT: 337\n",
      "Brightness:  79\n",
      "DATA: 0.01664235, TRIGCNT: 339\n",
      "Brightness:  87\n",
      "DATA: 0.02094400, TRIGCNT: 340\n",
      "Brightness:  96\n",
      "DATA: 0.02456753, TRIGCNT: 342\n",
      "Brightness:  105\n",
      "DATA: 0.02807200, TRIGCNT: 344\n",
      "Brightness:  114\n",
      "DATA: 0.03156094, TRIGCNT: 345\n",
      "Brightness:  123\n",
      "DATA: 0.03594800, TRIGCNT: 347\n",
      "Brightness:  131\n",
      "DATA: 0.03982517, TRIGCNT: 349\n",
      "Brightness:  140\n",
      "DATA: 0.04201741, TRIGCNT: 350\n",
      "Brightness:  149\n",
      "DATA: 0.04661153, TRIGCNT: 352\n",
      "Brightness:  158\n",
      "DATA: 0.04646917, TRIGCNT: 354\n",
      "Brightness:  167\n",
      "DATA: 0.04995294, TRIGCNT: 355\n",
      "Brightness:  175\n",
      "DATA: 0.05335388, TRIGCNT: 357\n",
      "Brightness:  184\n",
      "DATA: 0.05667976, TRIGCNT: 359\n",
      "Brightness:  193\n",
      "DATA: 0.06146282, TRIGCNT: 360\n",
      "Brightness:  202\n",
      "DATA: 0.06619929, TRIGCNT: 362\n",
      "Brightness:  211\n",
      "DATA: 0.06718541, TRIGCNT: 364\n",
      "Brightness:  219\n",
      "DATA: 0.07447129, TRIGCNT: 365\n",
      "Brightness:  228\n",
      "DATA: 0.07525035, TRIGCNT: 367\n",
      "Brightness:  237\n",
      "DATA: 0.07820352, TRIGCNT: 369\n",
      "Brightness:  246\n",
      "DATA: 0.07980047, TRIGCNT: 371\n",
      "Brightness:  255\n",
      "DATA: 0.08152941, TRIGCNT: 372\n"
     ]
    }
   ],
   "source": [
    "NSTEPS = 30 # We will explore brightness level in 30 distinct steps\n",
    "\n",
    "brigs = np.linspace(0, 255, NSTEPS).astype('int') # Create a list NSTEPS long, that spans 0 to 255\n",
    "data = np.zeros(NSTEPS) # allocate array to hold photodetector value for each brightness step\n",
    "trigs = np.zeros(NSTEPS) # allocate array to hold trigger count corresponding to each photodetector value\n",
    "\n",
    "for i in range(NSTEPS):\n",
    "    print(\"Brightness: \", brigs[i])\n",
    "    for j in range(NLEDS):\n",
    "        epics.caput('LEDS:CH' + str(j) + ':brig.VAL', brigs[i])\n",
    "    sleep(5)\n",
    "    datastr = epics.caget(\"PHOTO:data\")\n",
    "    data[i], trigs[i] = dataparse(datastr)\n",
    "    print(datastr)"
   ]
  },
  {
   "cell_type": "markdown",
   "id": "362dfdb6",
   "metadata": {},
   "source": [
    "## Plot recorded data to identify trend"
   ]
  },
  {
   "cell_type": "code",
   "execution_count": 58,
   "id": "e85ebfff",
   "metadata": {},
   "outputs": [
    {
     "data": {
      "image/png": "[encoded data removed]",
      "text/plain": [
       "<Figure size 640x480 with 1 Axes>"
      ]
     },
     "metadata": {},
     "output_type": "display_data"
    }
   ],
   "source": [
    "fig, ax = plt.subplots()\n",
    "ax.plot(brigs, data, 'x')\n",
    "ax.set_xlabel(\"LED Brightness (in range of 255)\")\n",
    "ax.set_ylabel(\"Photodetector Integrated\")\n",
    "ax.set_title(\"Impact of LED Brightness on Photodetector Signal\")\n",
    "plt.show()"
   ]
  }
 ],
 "metadata": {
  "kernelspec": {
   "display_name": "Python 3",
   "language": "python",
   "name": "python3"
  },
  "language_info": {
   "codemirror_mode": {
    "name": "ipython",
    "version": 3
   },
   "file_extension": ".py",
   "mimetype": "text/x-python",
   "name": "python",
   "nbconvert_exporter": "python",
   "pygments_lexer": "ipython3",
   "version": "3.9.6"
  }
 },
 "nbformat": 4,
 "nbformat_minor": 5
}
