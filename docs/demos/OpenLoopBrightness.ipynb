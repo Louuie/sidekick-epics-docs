{
 "cells": [
  {
   "cell_type": "markdown",
   "id": "339c8789",
   "metadata": {},
   "source": [
    "# Open Loop: Brightness Scan"
   ]
  },
  {
   "cell_type": "markdown",
   "id": "8e898f9b",
   "metadata": {},
   "source": [
    "This example includes a brightness scan that is plotted to show the trend."
   ]
  },
  {
   "cell_type": "markdown",
   "id": "ca1d8c34",
   "metadata": {},
   "source": [
    "## Import necessary Python modules"
   ]
  },
  {
   "cell_type": "code",
   "execution_count": 1,
   "id": "4943d20d",
   "metadata": {},
   "outputs": [],
   "source": [
    "import numpy as np\n",
    "import epics # 'epics' is part of pyepics\n",
    "from time import sleep\n",
    "import matplotlib.pyplot as plt"
   ]
  },
  {
   "cell_type": "markdown",
   "id": "e0e06b2b",
   "metadata": {},
   "source": [
    "## Establish initial settings for LEDs, Shutter, and Photodetector"
   ]
  },
  {
   "cell_type": "code",
   "execution_count": 2,
   "id": "2cdc31e2",
   "metadata": {},
   "outputs": [
    {
     "data": {
      "text/plain": [
       "1"
      ]
     },
     "execution_count": 2,
     "metadata": {},
     "output_type": "execute_result"
    }
   ],
   "source": [
    "NLEDS = 6 # our sidekick system has six LEDs\n",
    "for i in range(NLEDS): # for each of our six LEDs\n",
    "    epics.caput('LEDS:CH' + str(i) + ':brig.VAL', 255) # Set LED brightness to 255 out of 255 (max brightness)\n",
    "    epics.caput('LEDS:CH' + str(i) + ':dur.VAL', 500e3) # Set LED 'flash on' duration to 500 ms\n",
    "\n",
    "epics.caput(\"SHUTTER:enable\", 1) # Enable the shutter\n",
    "epics.caput(\"SHUTTER:dur\", 1.5e6) # Set shutter 'open' duration to 1.5 seconds (includes some time while opening)\n",
    "epics.caput(\"PULSEGEN:reprate\", 1/3.0) # Set systemwide repetition rate to once every three seconds\n",
    "\n",
    "epics.caput(\"PULSEGEN:CH0:delay\", 400.0e3) # Set LED trigger delay to 400 ms\n",
    "epics.caput(\"PULSEGEN:CH1:delay\", 0.0e3) # Set Shutter trigger delay to 0 ms\n",
    "epics.caput(\"PULSEGEN:CH2:delay\", 300.0e3) # Set Photodetector trigger delay to 300 ms\n",
    "\n",
    "epics.caput(\"PHOTO:dur\", 1000.0e3) # Set photodetector exposure length to one second"
   ]
  },
  {
   "cell_type": "markdown",
   "id": "9fd4a56a",
   "metadata": {},
   "source": [
    "## Write parser to interpret photodetector data string"
   ]
  },
  {
   "cell_type": "code",
   "execution_count": 3,
   "id": "72fa8639",
   "metadata": {},
   "outputs": [
    {
     "data": {
      "text/plain": [
       "'DAT: 0.000063538617, TRIG: 31469'"
      ]
     },
     "execution_count": 3,
     "metadata": {},
     "output_type": "execute_result"
    }
   ],
   "source": [
    "epics.caget(\"PHOTO:data\")"
   ]
  },
  {
   "cell_type": "code",
   "execution_count": 4,
   "id": "e3b78adc",
   "metadata": {},
   "outputs": [
    {
     "data": {
      "text/plain": [
       "(0.02112776, 531)"
      ]
     },
     "execution_count": 4,
     "metadata": {},
     "output_type": "execute_result"
    }
   ],
   "source": [
    "def dataparse(datastr):\n",
    "    \"\"\" Parse the photodetector data string, which comes in the format 'DATA: 0.02112776, TRIGCNT: 531' \"\"\"\n",
    "    [str1, str2] = datastr.split(',')\n",
    "    data = np.float64(str1.split(': ')[1])\n",
    "    trig = np.int64(str2.split(': ')[1])\n",
    "    return data, trig\n",
    "\n",
    "# Example usage:\n",
    "dataparse(\"DATA: 0.02112776, TRIGCNT: 531\")"
   ]
  },
  {
   "cell_type": "code",
   "execution_count": 5,
   "id": "8fbacc7a",
   "metadata": {},
   "outputs": [
    {
     "data": {
      "text/plain": [
       "(6.3538617e-05, 31469)"
      ]
     },
     "execution_count": 5,
     "metadata": {},
     "output_type": "execute_result"
    }
   ],
   "source": [
    "dataparse(epics.caget(\"PHOTO:data\"))"
   ]
  },
  {
   "cell_type": "markdown",
   "id": "952667ad",
   "metadata": {},
   "source": [
    "## Record photodetector signal (to NumPy array) while stepping through LED brightnesses"
   ]
  },
  {
   "cell_type": "code",
   "execution_count": 6,
   "id": "129e93af",
   "metadata": {},
   "outputs": [
    {
     "name": "stdout",
     "output_type": "stream",
     "text": [
      "Brightness:  0\n",
      "DAT: 0.000000000000, TRIG: 31470\n",
      "Brightness:  8\n",
      "DAT: 0.000000000000, TRIG: 31472\n",
      "Brightness:  17\n",
      "DAT: 0.000000000000, TRIG: 31473\n",
      "Brightness:  26\n",
      "DAT: 0.000031364900, TRIG: 31475\n",
      "Brightness:  35\n",
      "DAT: 0.000300302230, TRIG: 31477\n",
      "Brightness:  43\n",
      "DAT: 0.000308977610, TRIG: 31478\n",
      "Brightness:  52\n",
      "DAT: 0.002718736200, TRIG: 31480\n",
      "Brightness:  61\n",
      "DAT: 0.004122816000, TRIG: 31482\n",
      "Brightness:  70\n",
      "DAT: 0.005415378100, TRIG: 31484\n",
      "Brightness:  79\n",
      "DAT: 0.006848624900, TRIG: 31485\n",
      "Brightness:  87\n",
      "DAT: 0.008078796800, TRIG: 31487\n",
      "Brightness:  96\n",
      "DAT: 0.009336062700, TRIG: 31489\n",
      "Brightness:  105\n",
      "DAT: 0.010575310000, TRIG: 31490\n",
      "Brightness:  114\n",
      "DAT: 0.011919329000, TRIG: 31492\n",
      "Brightness:  123\n",
      "DAT: 0.013212161000, TRIG: 31494\n",
      "Brightness:  131\n",
      "DAT: 0.014343145000, TRIG: 31495\n",
      "Brightness:  140\n",
      "DAT: 0.015662430000, TRIG: 31497\n",
      "Brightness:  149\n",
      "DAT: 0.016966093000, TRIG: 31499\n",
      "Brightness:  158\n",
      "DAT: 0.018187638000, TRIG: 31501\n",
      "Brightness:  167\n",
      "DAT: 0.019354144000, TRIG: 31502\n",
      "Brightness:  175\n",
      "DAT: 0.020456586000, TRIG: 31504\n",
      "Brightness:  184\n",
      "DAT: 0.021714522000, TRIG: 31506\n",
      "Brightness:  193\n",
      "DAT: 0.023011159000, TRIG: 31507\n",
      "Brightness:  202\n",
      "DAT: 0.024311801000, TRIG: 31509\n",
      "Brightness:  211\n",
      "DAT: 0.025552383000, TRIG: 31511\n",
      "Brightness:  219\n",
      "DAT: 0.026676180000, TRIG: 31512\n",
      "Brightness:  228\n",
      "DAT: 0.028239753000, TRIG: 31514\n",
      "Brightness:  237\n",
      "DAT: 0.029551741000, TRIG: 31516\n",
      "Brightness:  246\n",
      "DAT: 0.031058591000, TRIG: 31517\n",
      "Brightness:  255\n",
      "DAT: 0.032207746000, TRIG: 31519\n"
     ]
    }
   ],
   "source": [
    "NSTEPS = 30 # We will explore brightness level in 30 distinct steps\n",
    "\n",
    "brigs = np.linspace(0, 255, NSTEPS).astype('int') # Create a list NSTEPS long, that spans 0 to 255\n",
    "data = np.zeros(NSTEPS) # allocate array to hold photodetector value for each brightness step\n",
    "trigs = np.zeros(NSTEPS) # allocate array to hold trigger count corresponding to each photodetector value\n",
    "\n",
    "for i in range(NSTEPS):\n",
    "    print(\"Brightness: \", brigs[i])\n",
    "    for j in range(NLEDS):\n",
    "        epics.caput('LEDS:CH' + str(j) + ':brig.VAL', brigs[i])\n",
    "    sleep(5)\n",
    "    datastr = epics.caget(\"PHOTO:data\")\n",
    "    data[i], trigs[i] = dataparse(datastr)\n",
    "    print(datastr)"
   ]
  },
  {
   "cell_type": "markdown",
   "id": "362dfdb6",
   "metadata": {},
   "source": [
    "## Plot recorded data to identify trend"
   ]
  },
  {
   "cell_type": "code",
   "execution_count": 7,
   "id": "e85ebfff",
   "metadata": {},
   "outputs": [
    {
     "data": {
      "image/png": "[encoded data removed]",
      "text/plain": [
       "<Figure size 640x480 with 1 Axes>"
      ]
     },
     "metadata": {},
     "output_type": "display_data"
    }
   ],
   "source": [
    "fig, ax = plt.subplots()\n",
    "ax.plot(brigs, data, 'x')\n",
    "ax.set_xlabel(\"LED Brightness (in range of 255)\")\n",
    "ax.set_ylabel(\"Photodetector Integrated\")\n",
    "ax.set_title(\"Impact of LED Brightness on Photodetector Signal\")\n",
    "plt.show()"
   ]
  }
 ],
 "metadata": {
  "kernelspec": {
   "display_name": "Python 3",
   "language": "python",
   "name": "python3"
  },
  "language_info": {
   "codemirror_mode": {
    "name": "ipython",
    "version": 3
   },
   "file_extension": ".py",
   "mimetype": "text/x-python",
   "name": "python",
   "nbconvert_exporter": "python",
   "pygments_lexer": "ipython3",
   "version": "3.9.6"
  }
 },
 "nbformat": 4,
 "nbformat_minor": 5
}
