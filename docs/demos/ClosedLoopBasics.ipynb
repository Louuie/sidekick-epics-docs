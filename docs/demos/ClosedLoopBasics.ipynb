{
 "cells": [
  {
   "cell_type": "markdown",
   "id": "855b582c",
   "metadata": {},
   "source": [
    "# Closed Loop: Basics"
   ]
  },
  {
   "cell_type": "markdown",
   "id": "ca1d8c34",
   "metadata": {},
   "source": [
    "## Import necessary Python modules"
   ]
  },
  {
   "cell_type": "code",
   "execution_count": 1,
   "id": "4943d20d",
   "metadata": {},
   "outputs": [],
   "source": [
    "import numpy as np\n",
    "import epics # 'epics' is part of pyepics\n",
    "from time import sleep\n",
    "import matplotlib.pyplot as plt"
   ]
  },
  {
   "cell_type": "markdown",
   "id": "e0e06b2b",
   "metadata": {},
   "source": [
    "## Establish initial settings for LEDs, Photodetector, and Shutter"
   ]
  },
  {
   "cell_type": "markdown",
   "id": "7fb14d47",
   "metadata": {},
   "source": [
    "Our plan will be to run at 20 Hz, which means we will have 50 milliseconds to work with between each trigger."
   ]
  },
  {
   "cell_type": "markdown",
   "id": "1c043148",
   "metadata": {},
   "source": [
    "Disable the shutter, since it doesn't operate this quickly."
   ]
  },
  {
   "cell_type": "code",
   "execution_count": 2,
   "id": "13723141",
   "metadata": {},
   "outputs": [
    {
     "data": {
      "text/plain": [
       "1"
      ]
     },
     "execution_count": 2,
     "metadata": {},
     "output_type": "execute_result"
    }
   ],
   "source": [
    "epics.caput(\"SHUTTER:enable\", 0) # Disable the shutter"
   ]
  },
  {
   "cell_type": "markdown",
   "id": "47f1ad70",
   "metadata": {},
   "source": [
    "Set all LEDs to flash at maximum brightness for ten milliseconds. This will be their initial brightness."
   ]
  },
  {
   "cell_type": "code",
   "execution_count": 3,
   "id": "8db0bf62",
   "metadata": {},
   "outputs": [],
   "source": [
    "NLEDS = 6 # our sidekick system has six LEDs\n",
    "for i in range(NLEDS): # for each of our six LEDs\n",
    "    epics.caput('LEDS:CH' + str(i) + ':brig.VAL', 255) # Set LED brightness to 255 out of 255 (low brightness)\n",
    "    epics.caput('LEDS:CH' + str(i) + ':dur.VAL', 10.0e3) # Set LED 'flash on' duration to 10 ms"
   ]
  },
  {
   "cell_type": "markdown",
   "id": "a2983347",
   "metadata": {},
   "source": [
    "Set the photodetector exposure time to 30 milliseconds, so it easily integrates over the entirety of the LED flash."
   ]
  },
  {
   "cell_type": "code",
   "execution_count": 4,
   "id": "6bfe75cb",
   "metadata": {},
   "outputs": [
    {
     "data": {
      "text/plain": [
       "1"
      ]
     },
     "execution_count": 4,
     "metadata": {},
     "output_type": "execute_result"
    }
   ],
   "source": [
    "epics.caput(\"PHOTO:dur\", 30.0e3) # Set photodetector exposure time to 30 ms"
   ]
  },
  {
   "cell_type": "markdown",
   "id": "9305d75b",
   "metadata": {},
   "source": [
    "Configure the photodiode to begin exposure 5 milliseconds prior to the LED flash, so that it captures the entirety of the LED flash."
   ]
  },
  {
   "cell_type": "code",
   "execution_count": 5,
   "id": "e7dfd1d3",
   "metadata": {},
   "outputs": [
    {
     "data": {
      "text/plain": [
       "1"
      ]
     },
     "execution_count": 5,
     "metadata": {},
     "output_type": "execute_result"
    }
   ],
   "source": [
    "epics.caput(\"PULSEGEN:CH0:delay\", 5.0e3) # Set LED trigger delay to 5 ms\n",
    "epics.caput(\"PULSEGEN:CH2:delay\", 0.0e3) # Set Photodetector trigger delay to 0 ms"
   ]
  },
  {
   "cell_type": "markdown",
   "id": "e02c19bc",
   "metadata": {},
   "source": [
    "Configure the pulse generator to output trigger pulses at 20 Hz."
   ]
  },
  {
   "cell_type": "code",
   "execution_count": 6,
   "id": "23fdbbcc",
   "metadata": {},
   "outputs": [
    {
     "data": {
      "text/plain": [
       "1"
      ]
     },
     "execution_count": 6,
     "metadata": {},
     "output_type": "execute_result"
    }
   ],
   "source": [
    "epics.caput(\"PULSEGEN:reprate\", 20) # Set systemwide repetition rate to 20 Hz"
   ]
  },
  {
   "cell_type": "markdown",
   "id": "6c4e6107",
   "metadata": {},
   "source": [
    "## Perform Closed-Loop Operation"
   ]
  },
  {
   "cell_type": "markdown",
   "id": "2fad566a",
   "metadata": {},
   "source": [
    "We will set a goal of achieving 60% of the original photodetector level. We will follow a simple algorithm."
   ]
  },
  {
   "cell_type": "code",
   "execution_count": null,
   "id": "27083f16",
   "metadata": {},
   "outputs": [],
   "source": [
    "NSTEPS = 100\n",
    "\n",
    "for i in range(NSTEPS):\n",
    "    epics.caget(\"\")"
   ]
  },
  {
   "cell_type": "markdown",
   "id": "80a8426c",
   "metadata": {},
   "source": [
    "## Plot results"
   ]
  },
  {
   "cell_type": "code",
   "execution_count": null,
   "id": "e26038ea",
   "metadata": {},
   "outputs": [],
   "source": [
    "TARG_VAL = 0.5\n",
    "\n",
    "fig, ax = plt.subplots()\n",
    "ax.axhline(TARG_VAL, color='red', linestyle='--', label=\"Target value\")\n",
    "plt.legend()\n",
    "plt.show()"
   ]
  },
  {
   "cell_type": "code",
   "execution_count": null,
   "id": "2ea16cc9",
   "metadata": {},
   "outputs": [],
   "source": []
  }
 ],
 "metadata": {
  "kernelspec": {
   "display_name": "Python 3",
   "language": "python",
   "name": "python3"
  },
  "language_info": {
   "codemirror_mode": {
    "name": "ipython",
    "version": 3
   },
   "file_extension": ".py",
   "mimetype": "text/x-python",
   "name": "python",
   "nbconvert_exporter": "python",
   "pygments_lexer": "ipython3",
   "version": "3.9.6"
  }
 },
 "nbformat": 4,
 "nbformat_minor": 5
}
