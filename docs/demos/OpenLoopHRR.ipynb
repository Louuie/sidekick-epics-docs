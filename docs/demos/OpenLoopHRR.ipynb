{
 "cells": [
  {
   "cell_type": "markdown",
   "id": "e75a8690",
   "metadata": {},
   "source": [
    "# Open Loop: High Rep Rate"
   ]
  },
  {
   "cell_type": "markdown",
   "id": "ff2b2d36",
   "metadata": {},
   "source": [
    "Sweeping over experimental diagnostic settings while keeping the experimental inputs relatively fixed.\n",
    "\n",
    "In this demo, we will sweep over the photodetector delay time during 10 Hz systemwide operation. "
   ]
  },
  {
   "cell_type": "markdown",
   "id": "ca1d8c34",
   "metadata": {},
   "source": [
    "## Import necessary Python modules"
   ]
  },
  {
   "cell_type": "code",
   "execution_count": 4,
   "id": "4943d20d",
   "metadata": {},
   "outputs": [],
   "source": [
    "import numpy as np\n",
    "import epics # 'epics' is part of pyepics\n",
    "from epics import PV\n",
    "from time import sleep\n",
    "import matplotlib.pyplot as plt"
   ]
  },
  {
   "cell_type": "markdown",
   "id": "e0e06b2b",
   "metadata": {},
   "source": [
    "## Establish initial settings for LEDs, Photodetector, and Shutter"
   ]
  },
  {
   "cell_type": "markdown",
   "id": "59e6d90c",
   "metadata": {},
   "source": [
    "Our plan will be to run at 10 Hz, which means we will have 100 milliseconds to work with between each trigger."
   ]
  },
  {
   "cell_type": "markdown",
   "id": "9bfd0ee8",
   "metadata": {},
   "source": [
    "Disable the shutter, since it doesn't operate this quickly."
   ]
  },
  {
   "cell_type": "code",
   "execution_count": 5,
   "id": "10590a90",
   "metadata": {},
   "outputs": [
    {
     "data": {
      "text/plain": [
       "1"
      ]
     },
     "execution_count": 5,
     "metadata": {},
     "output_type": "execute_result"
    }
   ],
   "source": [
    "epics.caput(\"SHUTTER:enable\", 0) # Disable the shutter"
   ]
  },
  {
   "cell_type": "markdown",
   "id": "94a2036d",
   "metadata": {},
   "source": [
    "Set all LEDs to flash at maximum brightness for 30 milliseconds."
   ]
  },
  {
   "cell_type": "code",
   "execution_count": 6,
   "id": "b376f6b4",
   "metadata": {},
   "outputs": [],
   "source": [
    "NLEDS = 6 # our sidekick system has six LEDs\n",
    "for i in range(NLEDS): # for each of our six LEDs\n",
    "    epics.caput('LEDS:CH' + str(i) + ':brig.VAL', 255) # Set LED brightness to 255 out of 255 (max brightness)\n",
    "    epics.caput('LEDS:CH' + str(i) + ':dur.VAL', 30.0e3) # Set LED 'flash on' duration to 30 ms"
   ]
  },
  {
   "cell_type": "markdown",
   "id": "33417a02",
   "metadata": {},
   "source": [
    "Set the photodetector exposure time to 1 millisecond, so we can identify the signal."
   ]
  },
  {
   "cell_type": "code",
   "execution_count": 7,
   "id": "e79f623b",
   "metadata": {},
   "outputs": [
    {
     "data": {
      "text/plain": [
       "1"
      ]
     },
     "execution_count": 7,
     "metadata": {},
     "output_type": "execute_result"
    }
   ],
   "source": [
    "epics.caput(\"PHOTO:dur\", 1.0e3) # Set photodetector exposure time to 1 ms"
   ]
  },
  {
   "cell_type": "markdown",
   "id": "fc702082",
   "metadata": {},
   "source": [
    "Configure the photodiode to begin exposure 5 milliseconds prior to the LED flash, so that it captures the entirety of the LED flash."
   ]
  },
  {
   "cell_type": "code",
   "execution_count": 8,
   "id": "37d09823",
   "metadata": {},
   "outputs": [
    {
     "data": {
      "text/plain": [
       "1"
      ]
     },
     "execution_count": 8,
     "metadata": {},
     "output_type": "execute_result"
    }
   ],
   "source": [
    "epics.caput(\"PULSEGEN:CH0:delay\", 5.0e3) # Set LED trigger delay to 5 ms\n",
    "epics.caput(\"PULSEGEN:CH2:delay\", 0.0e3) # Set Photodetector trigger delay to 0 ms"
   ]
  },
  {
   "cell_type": "markdown",
   "id": "2d477d08",
   "metadata": {},
   "source": [
    "Configure the pulse generator to output trigger pulses at 10 Hz."
   ]
  },
  {
   "cell_type": "code",
   "execution_count": 9,
   "id": "b22e2785",
   "metadata": {},
   "outputs": [
    {
     "data": {
      "text/plain": [
       "1"
      ]
     },
     "execution_count": 9,
     "metadata": {},
     "output_type": "execute_result"
    }
   ],
   "source": [
    "epics.caput(\"PULSEGEN:reprate\", 10) # Set systemwide repetition rate to 10 Hz"
   ]
  },
  {
   "cell_type": "markdown",
   "id": "9fd4a56a",
   "metadata": {},
   "source": [
    "## Write parser to interpret photodetector data string"
   ]
  },
  {
   "cell_type": "code",
   "execution_count": 46,
   "id": "72fa8639",
   "metadata": {},
   "outputs": [
    {
     "data": {
      "text/plain": [
       "'DAT: 0.000000000000, TRIG: 17054'"
      ]
     },
     "execution_count": 46,
     "metadata": {},
     "output_type": "execute_result"
    }
   ],
   "source": [
    "epics.caget(\"PHOTO:data\")"
   ]
  },
  {
   "cell_type": "code",
   "execution_count": 11,
   "id": "e3b78adc",
   "metadata": {},
   "outputs": [
    {
     "data": {
      "text/plain": [
       "(0.0095943464, 11)"
      ]
     },
     "execution_count": 11,
     "metadata": {},
     "output_type": "execute_result"
    }
   ],
   "source": [
    "def dataparse(datastr):\n",
    "    \"\"\" Parse the photodetector data string, which comes in the format 'DAT: 0.02112776, TRIG: 531' \"\"\"\n",
    "    [str1, str2] = datastr.split(',')\n",
    "    data = np.float64(str1.split(': ')[1])\n",
    "    trig = np.int64(str2.split(': ')[1])\n",
    "    return data, trig\n",
    "\n",
    "# Example usage:\n",
    "dataparse(\"DAT: 0.009594346400, TRIG: 11\")"
   ]
  },
  {
   "cell_type": "code",
   "execution_count": 12,
   "id": "8fbacc7a",
   "metadata": {},
   "outputs": [
    {
     "data": {
      "text/plain": [
       "(0.0, 7956)"
      ]
     },
     "execution_count": 12,
     "metadata": {},
     "output_type": "execute_result"
    }
   ],
   "source": [
    "dataparse(epics.caget(\"PHOTO:data\"))"
   ]
  },
  {
   "cell_type": "markdown",
   "id": "805888a6",
   "metadata": {},
   "source": [
    "## Explore adding a callback to the photodetector data"
   ]
  },
  {
   "cell_type": "code",
   "execution_count": 59,
   "id": "080171ea",
   "metadata": {},
   "outputs": [],
   "source": [
    "pvphoto = PV(\"PHOTO:data.VAL\", form=\"time\")"
   ]
  },
  {
   "cell_type": "code",
   "execution_count": 65,
   "id": "c5827dea",
   "metadata": {
    "scrolled": true
   },
   "outputs": [
    {
     "name": "stdout",
     "output_type": "stream",
     "text": [
      "New Photodetector Data!  23741 0.0\n",
      "New Photodetector Data!  23742 0.0\n",
      "New Photodetector Data!  23743 0.0\n",
      "New Photodetector Data!  23744 0.0\n",
      "New Photodetector Data!  23745 0.0\n",
      "New Photodetector Data!  23746 0.0\n",
      "New Photodetector Data!  23747 0.0\n",
      "New Photodetector Data!  23748 0.0\n",
      "New Photodetector Data!  23749 0.0\n",
      "New Photodetector Data!  23750 0.0\n"
     ]
    }
   ],
   "source": [
    "def testCallback(pvname=None, value=None, **kw):\n",
    "    data, trig = dataparse(value)\n",
    "    print('New Photodetector Data! ', trig, data)\n",
    "\n",
    "pvphoto.add_callback(testCallback)\n",
    "sleep(1)\n",
    "pvphoto.clear_callbacks()"
   ]
  },
  {
   "cell_type": "markdown",
   "id": "0f2e3a09",
   "metadata": {},
   "source": [
    "## Sweep over photodetector trigger delays, recording data at each delay time"
   ]
  },
  {
   "cell_type": "code",
   "execution_count": 76,
   "id": "b3ad2e13",
   "metadata": {
    "scrolled": true
   },
   "outputs": [],
   "source": [
    "NSTEPS = 100 # We will explore brightness level in 100 distinct steps\n",
    "\n",
    "delays = np.linspace(0.0e3, 60.0e3, NSTEPS).astype('int64') # Create a list NSTEPS long, that spans 0 to 255\n",
    "data = np.zeros(NSTEPS) # allocate array to hold photodetector value for each brightness step\n",
    "trigs = np.zeros(NSTEPS) # allocate array to hold trigger count corresponding to each photodetector value\n",
    "\n",
    "isfresh = False # isfresh is a global variable indicating fresh data is ready to take\n",
    "\n",
    "def dataCallback(pvname=None, value=None, **kw):\n",
    "    global isfresh\n",
    "    isfresh = True\n",
    "\n",
    "pvphoto.add_callback(dataCallback)\n",
    "\n",
    "for i in range(NSTEPS):\n",
    "    epics.caput(\"PULSEGEN:CH2:delay\", delays[i])\n",
    "    isfresh = False\n",
    "    while not isfresh:\n",
    "        sleep(0.05)\n",
    "    data[i], trigs[i] = dataparse(pvphoto.value)\n",
    "\n",
    "pvphoto.clear_callbacks()"
   ]
  },
  {
   "cell_type": "markdown",
   "id": "dd256a1a",
   "metadata": {},
   "source": [
    "## Plot recorded data to reveal photodetector response curve"
   ]
  },
  {
   "cell_type": "code",
   "execution_count": 110,
   "id": "414f8fd9",
   "metadata": {},
   "outputs": [
    {
     "data": {
      "image/png": "[encoded data removed]",
      "text/plain": [
       "<Figure size 640x480 with 1 Axes>"
      ]
     },
     "metadata": {},
     "output_type": "display_data"
    }
   ],
   "source": [
    "fig, ax = plt.subplots()\n",
    "ax.plot(delays*1e-3 - 5.0, data, 'x') # Note the offset of 5.0 ms between the LED trigger and Photodiode trigger\n",
    "ax.set_xlabel(\"Photodetector Trigger Delay (ms), relative to LED Trigger\")\n",
    "#ax.set_ylim([0, 0.0015])\n",
    "ax.set_ylabel(\"Photodetector Signal (Exposure Time: 1 ms)\")\n",
    "ax.set_title(\"Photodetector Response, 30 ms LED Flash\")\n",
    "plt.show()"
   ]
  },
  {
   "cell_type": "markdown",
   "id": "4ffdc4c2",
   "metadata": {},
   "source": [
    "## Examine Details of the Sweep Sequence"
   ]
  },
  {
   "cell_type": "code",
   "execution_count": 108,
   "id": "e2aff322",
   "metadata": {},
   "outputs": [
    {
     "data": {
      "image/png": "[encoded data removed]",
      "text/plain": [
       "<Figure size 640x480 with 1 Axes>"
      ]
     },
     "metadata": {},
     "output_type": "display_data"
    }
   ],
   "source": [
    "fig, ax = plt.subplots()\n",
    "ax.plot(trigs - trigs[0], delays*1e-3, '-')\n",
    "ax.set_xlabel(\"Photodetector Trigger Number (relative to first)\")\n",
    "#ax.set_ylim([0, 0.0015])\n",
    "ax.set_ylabel(\"Photodetector Trigger Delay (ms)\")\n",
    "ax.set_title(\"Post-Mortem of the Sweep Sequence\")\n",
    "plt.show()"
   ]
  },
  {
   "cell_type": "markdown",
   "id": "cbd288c1",
   "metadata": {},
   "source": [
    "As you can see above, we discarded quite a bit of potential data! Our scan sequence spanned 400 systemwide triggers, but we only recorded photodetector data on 100 of these. Part of this is due to our insistence on \"fresh data\" after making each delay time change. Another reason may concern with how I asked pyepics to update variables via callback; future optimization is likely possible here."
   ]
  }
 ],
 "metadata": {
  "kernelspec": {
   "display_name": "Python 3",
   "language": "python",
   "name": "python3"
  },
  "language_info": {
   "codemirror_mode": {
    "name": "ipython",
    "version": 3
   },
   "file_extension": ".py",
   "mimetype": "text/x-python",
   "name": "python",
   "nbconvert_exporter": "python",
   "pygments_lexer": "ipython3",
   "version": "3.9.6"
  }
 },
 "nbformat": 4,
 "nbformat_minor": 5
}
