{
 "cells": [
  {
   "cell_type": "markdown",
   "id": "b31ad0c6",
   "metadata": {},
   "source": [
    "# Open Loop: Basics\n",
    "\n",
    "An example of scanning over LED brightnesses and shutter delays, to see impact on the photodiode"
   ]
  },
  {
   "cell_type": "code",
   "execution_count": 1,
   "id": "a3f0cfaf",
   "metadata": {},
   "outputs": [],
   "source": [
    "import numpy as np\n",
    "import epics\n",
    "from epics import PV\n",
    "from time import sleep"
   ]
  },
  {
   "cell_type": "markdown",
   "id": "08d745b0",
   "metadata": {},
   "source": [
    "## Setup"
   ]
  },
  {
   "cell_type": "markdown",
   "id": "5b8d0104",
   "metadata": {},
   "source": [
    "### Set all six LEDs to flash in unison"
   ]
  },
  {
   "cell_type": "markdown",
   "id": "3a76d9f5",
   "metadata": {},
   "source": [
    "Create a six-element list of LED-duration process variables"
   ]
  },
  {
   "cell_type": "code",
   "execution_count": 2,
   "id": "3c1db645",
   "metadata": {},
   "outputs": [],
   "source": [
    "LEDdurs = [None]*6\n",
    "for i in range(6):\n",
    "    LEDdurs[i] = PV('LEDS:CH' + str(i) + ':dur.VAL')"
   ]
  },
  {
   "cell_type": "markdown",
   "id": "e7954d5e",
   "metadata": {},
   "source": [
    "Set all LEDs to flash for the same duration: five hundred milliseconds."
   ]
  },
  {
   "cell_type": "code",
   "execution_count": 3,
   "id": "d6133e5e",
   "metadata": {},
   "outputs": [],
   "source": [
    "for LEDdur in LEDdurs:\n",
    "    LEDdur.put(500e3)"
   ]
  },
  {
   "cell_type": "markdown",
   "id": "52602944",
   "metadata": {},
   "source": [
    "### Initialize all six LEDs at their maximum brightness"
   ]
  },
  {
   "cell_type": "markdown",
   "id": "b1924208",
   "metadata": {},
   "source": [
    "Create a six-element list of LED-brightness process variables"
   ]
  },
  {
   "cell_type": "code",
   "execution_count": 4,
   "id": "33552723",
   "metadata": {},
   "outputs": [],
   "source": [
    "LEDbrigs = [None]*6\n",
    "for i in range(6):\n",
    "    LEDbrigs[i] = PV('LEDS:CH' + str(i) + ':brig.VAL')"
   ]
  },
  {
   "cell_type": "markdown",
   "id": "fb972f92",
   "metadata": {},
   "source": [
    "Set all LEDs to the same brightness level: 255 (out of 255)"
   ]
  },
  {
   "cell_type": "code",
   "execution_count": 5,
   "id": "e50dff66",
   "metadata": {},
   "outputs": [],
   "source": [
    "for LEDbrig in LEDbrigs:\n",
    "    LEDbrig.put(255)"
   ]
  },
  {
   "cell_type": "markdown",
   "id": "9def89b4",
   "metadata": {},
   "source": [
    "### Ensure the shutter is open throughout LED flash"
   ]
  },
  {
   "cell_type": "markdown",
   "id": "7fe198db",
   "metadata": {},
   "source": [
    "Enable the shutter, if it isn't already enabled"
   ]
  },
  {
   "cell_type": "code",
   "execution_count": 6,
   "id": "6ea4311e",
   "metadata": {},
   "outputs": [
    {
     "data": {
      "text/plain": [
       "1"
      ]
     },
     "execution_count": 6,
     "metadata": {},
     "output_type": "execute_result"
    }
   ],
   "source": [
    "epics.caput(\"SHUTTER:enable\", 1)"
   ]
  },
  {
   "cell_type": "markdown",
   "id": "bd57b9cd",
   "metadata": {},
   "source": [
    "Specify that the shutter should wait **a full 1.5 seconds** to start closing after opening"
   ]
  },
  {
   "cell_type": "code",
   "execution_count": 7,
   "id": "af9fd4c9",
   "metadata": {},
   "outputs": [
    {
     "data": {
      "text/plain": [
       "1"
      ]
     },
     "execution_count": 7,
     "metadata": {},
     "output_type": "execute_result"
    }
   ],
   "source": [
    "epics.caput(\"SHUTTER:dur\", 1.5e6)"
   ]
  },
  {
   "cell_type": "markdown",
   "id": "38ab4c0e",
   "metadata": {},
   "source": [
    "Reduce the overall repetition rate of the system to once every three seconds"
   ]
  },
  {
   "cell_type": "code",
   "execution_count": 8,
   "id": "3927c35d",
   "metadata": {},
   "outputs": [
    {
     "data": {
      "text/plain": [
       "1"
      ]
     },
     "execution_count": 8,
     "metadata": {},
     "output_type": "execute_result"
    }
   ],
   "source": [
    "epics.caput(\"PULSEGEN:reprate\", 1/3.0)"
   ]
  },
  {
   "cell_type": "markdown",
   "id": "8b5ad856",
   "metadata": {},
   "source": [
    "Increase the delay time on the LED trigger signal (Channel 0 from the Pulse Generator) to be 400 milliseconds (it started at 2 milliseconds)"
   ]
  },
  {
   "cell_type": "code",
   "execution_count": 9,
   "id": "838966d3",
   "metadata": {
    "scrolled": true
   },
   "outputs": [
    {
     "data": {
      "text/plain": [
       "1"
      ]
     },
     "execution_count": 9,
     "metadata": {},
     "output_type": "execute_result"
    }
   ],
   "source": [
    "epics.caput(\"PULSEGEN:CH0:delay\", 400.0e3) # Set LED trigger delay to 400 ms"
   ]
  },
  {
   "cell_type": "markdown",
   "id": "b0a0f2c3",
   "metadata": {},
   "source": [
    "Set the delay time on the Shutter trigger signal (Channel 1 from the Pulse Generator) to be 0 milliseconds, which is 400 milliseconds earlier than the LED trigger."
   ]
  },
  {
   "cell_type": "code",
   "execution_count": 10,
   "id": "bf7dfb0d",
   "metadata": {},
   "outputs": [
    {
     "data": {
      "text/plain": [
       "1"
      ]
     },
     "execution_count": 10,
     "metadata": {},
     "output_type": "execute_result"
    }
   ],
   "source": [
    "epics.caput(\"PULSEGEN:CH1:delay\", 0.0e3) # Set Shutter trigger delay to 0 ms"
   ]
  },
  {
   "cell_type": "markdown",
   "id": "1e795943",
   "metadata": {},
   "source": [
    "### Set up the photodetector trigger delay and exposure time"
   ]
  },
  {
   "cell_type": "markdown",
   "id": "817c1ddb",
   "metadata": {},
   "source": [
    "We want the photodetector to start exposure before the LEDs begin flashing, and end exposure afterwards.\n",
    "\n",
    "We will set the delay time on the photodetector trigger signal (Channel 2 from the Pulse Generator) to be 300 ms, which is 100 ms prior to the LEDs flashing."
   ]
  },
  {
   "cell_type": "code",
   "execution_count": 11,
   "id": "6214ff65",
   "metadata": {},
   "outputs": [
    {
     "data": {
      "text/plain": [
       "1"
      ]
     },
     "execution_count": 11,
     "metadata": {},
     "output_type": "execute_result"
    }
   ],
   "source": [
    "epics.caput(\"PULSEGEN:CH2:delay\", 300.0e3) # Set Photodetector trigger delay to 300 ms"
   ]
  },
  {
   "cell_type": "markdown",
   "id": "6f6a8553",
   "metadata": {},
   "source": [
    "Now, we will set the exposure length on the photodiode to a full second, to make sure we capture the entire LED flash duration."
   ]
  },
  {
   "cell_type": "code",
   "execution_count": 12,
   "id": "76790bac",
   "metadata": {},
   "outputs": [
    {
     "data": {
      "text/plain": [
       "1"
      ]
     },
     "execution_count": 12,
     "metadata": {},
     "output_type": "execute_result"
    }
   ],
   "source": [
    "epics.caput(\"PHOTO:dur\", 1000.0e3) # Set photodetector exposure length to one second"
   ]
  },
  {
   "cell_type": "markdown",
   "id": "44c15348",
   "metadata": {},
   "source": [
    "### Read the photodetector value"
   ]
  },
  {
   "cell_type": "code",
   "execution_count": 13,
   "id": "16e9afc2",
   "metadata": {},
   "outputs": [
    {
     "data": {
      "text/plain": [
       "'DATA: 0.00640329, TRIGCNT: 91'"
      ]
     },
     "execution_count": 13,
     "metadata": {},
     "output_type": "execute_result"
    }
   ],
   "source": [
    "epics.caget(\"PHOTO:data\")"
   ]
  },
  {
   "cell_type": "markdown",
   "id": "63f8fc93",
   "metadata": {},
   "source": [
    "### Explore the impact of brightness values on photodetector signal"
   ]
  },
  {
   "cell_type": "markdown",
   "id": "52c00a6e",
   "metadata": {},
   "source": [
    "Demonstration of looping over brightness values"
   ]
  },
  {
   "cell_type": "code",
   "execution_count": 14,
   "id": "ae2f4abc",
   "metadata": {},
   "outputs": [
    {
     "name": "stdout",
     "output_type": "stream",
     "text": [
      "Brightness:  0\n",
      "DATA: 0.00264000, TRIGCNT: 93\n",
      "Brightness:  63\n",
      "DATA: 0.00397553, TRIGCNT: 96\n",
      "Brightness:  127\n",
      "DATA: 0.00354588, TRIGCNT: 99\n",
      "Brightness:  191\n",
      "DATA: 0.00680188, TRIGCNT: 101\n",
      "Brightness:  255\n",
      "DATA: 0.00731953, TRIGCNT: 104\n"
     ]
    }
   ],
   "source": [
    "for brig in np.linspace(0, 255, 5).astype('int'):\n",
    "    print(\"Brightness: \", brig)\n",
    "    for LEDbrig in LEDbrigs:\n",
    "        LEDbrig.put(brig)\n",
    "    sleep(8)\n",
    "    print(epics.caget(\"PHOTO:data\"))"
   ]
  },
  {
   "cell_type": "markdown",
   "id": "ebc3e978",
   "metadata": {},
   "source": [
    "### Explore the impact of shutter delay time on photodetector signal"
   ]
  },
  {
   "cell_type": "markdown",
   "id": "424121c5",
   "metadata": {},
   "source": [
    "Looping over shutter delay values"
   ]
  },
  {
   "cell_type": "code",
   "execution_count": 16,
   "id": "a94dc581",
   "metadata": {},
   "outputs": [
    {
     "name": "stdout",
     "output_type": "stream",
     "text": [
      "Shutter delay:  0.0  milliseconds.\n",
      "DATA: 0.02285670, TRIGCNT: 114\n",
      "Shutter delay:  250.0  milliseconds.\n",
      "DATA: 0.00972400, TRIGCNT: 117\n",
      "Shutter delay:  500.0  milliseconds.\n",
      "DATA: 0.00691576, TRIGCNT: 119\n",
      "Shutter delay:  750.0  milliseconds.\n",
      "DATA: 0.00329741, TRIGCNT: 122\n",
      "Shutter delay:  1000.0  milliseconds.\n",
      "DATA: 0.00080753, TRIGCNT: 125\n"
     ]
    }
   ],
   "source": [
    "for delay in np.linspace(0, 1000.0e3, 5).astype('int'):\n",
    "    print(\"Shutter delay: \", delay*1e-3, \" milliseconds.\")\n",
    "    epics.caput(\"PULSEGEN:CH1:delay\", delay) # Set Shutter trigger delay to 400 ms \n",
    "    sleep(8)\n",
    "    print(epics.caget(\"PHOTO:data\"))"
   ]
  }
 ],
 "metadata": {
  "kernelspec": {
   "display_name": "Python 3",
   "language": "python",
   "name": "python3"
  },
  "language_info": {
   "codemirror_mode": {
    "name": "ipython",
    "version": 3
   },
   "file_extension": ".py",
   "mimetype": "text/x-python",
   "name": "python",
   "nbconvert_exporter": "python",
   "pygments_lexer": "ipython3",
   "version": "3.9.6"
  }
 },
 "nbformat": 4,
 "nbformat_minor": 5
}
